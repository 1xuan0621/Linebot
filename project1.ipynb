{
  "nbformat": 4,
  "nbformat_minor": 0,
  "metadata": {
    "colab": {
      "provenance": [],
      "authorship_tag": "ABX9TyPWJqrUnuoa9aKjDtqKIIWm",
      "include_colab_link": true
    },
    "kernelspec": {
      "name": "python3",
      "display_name": "Python 3"
    },
    "language_info": {
      "name": "python"
    }
  },
  "cells": [
    {
      "cell_type": "markdown",
      "metadata": {
        "id": "view-in-github",
        "colab_type": "text"
      },
      "source": [
        "<a href=\"https://colab.research.google.com/github/1xuan0621/Linebot/blob/main/project1.ipynb\" target=\"_parent\"><img src=\"https://colab.research.google.com/assets/colab-badge.svg\" alt=\"Open In Colab\"/></a>"
      ]
    },
    {
      "cell_type": "code",
      "execution_count": null,
      "metadata": {
        "id": "C9l04cDzX8gK",
        "colab": {
          "base_uri": "https://localhost:8080/"
        },
        "outputId": "1b958b9d-b01d-4008-b88c-77fd155cd472"
      },
      "outputs": [
        {
          "output_type": "stream",
          "name": "stdout",
          "text": [
            "Mounted at /content/drive\n"
          ]
        }
      ],
      "source": [
        "from google.colab import drive\n",
        "drive.mount('/content/drive')"
      ]
    },
    {
      "cell_type": "code",
      "source": [
        "!pip install line-bot-sdk flask flask-ngrok"
      ],
      "metadata": {
        "colab": {
          "base_uri": "https://localhost:8080/"
        },
        "id": "hcbwNhW34NT3",
        "outputId": "cab05949-be1a-41c3-df6d-ad112f2ee298"
      },
      "execution_count": null,
      "outputs": [
        {
          "output_type": "stream",
          "name": "stdout",
          "text": [
            "Looking in indexes: https://pypi.org/simple, https://us-python.pkg.dev/colab-wheels/public/simple/\n",
            "Collecting line-bot-sdk\n",
            "  Downloading line_bot_sdk-2.3.0-py2.py3-none-any.whl (88 kB)\n",
            "\u001b[K     |████████████████████████████████| 88 kB 3.8 MB/s \n",
            "\u001b[?25hRequirement already satisfied: flask in /usr/local/lib/python3.7/dist-packages (1.1.4)\n",
            "Collecting flask-ngrok\n",
            "  Downloading flask_ngrok-0.0.25-py3-none-any.whl (3.1 kB)\n",
            "Requirement already satisfied: requests>=2.0 in /usr/local/lib/python3.7/dist-packages (from line-bot-sdk) (2.23.0)\n",
            "Requirement already satisfied: aiohttp>=3.7.4 in /usr/local/lib/python3.7/dist-packages (from line-bot-sdk) (3.8.3)\n",
            "Requirement already satisfied: future in /usr/local/lib/python3.7/dist-packages (from line-bot-sdk) (0.16.0)\n",
            "Requirement already satisfied: attrs>=17.3.0 in /usr/local/lib/python3.7/dist-packages (from aiohttp>=3.7.4->line-bot-sdk) (22.1.0)\n",
            "Requirement already satisfied: async-timeout<5.0,>=4.0.0a3 in /usr/local/lib/python3.7/dist-packages (from aiohttp>=3.7.4->line-bot-sdk) (4.0.2)\n",
            "Requirement already satisfied: asynctest==0.13.0 in /usr/local/lib/python3.7/dist-packages (from aiohttp>=3.7.4->line-bot-sdk) (0.13.0)\n",
            "Requirement already satisfied: typing-extensions>=3.7.4 in /usr/local/lib/python3.7/dist-packages (from aiohttp>=3.7.4->line-bot-sdk) (4.1.1)\n",
            "Requirement already satisfied: aiosignal>=1.1.2 in /usr/local/lib/python3.7/dist-packages (from aiohttp>=3.7.4->line-bot-sdk) (1.2.0)\n",
            "Requirement already satisfied: multidict<7.0,>=4.5 in /usr/local/lib/python3.7/dist-packages (from aiohttp>=3.7.4->line-bot-sdk) (6.0.2)\n",
            "Requirement already satisfied: charset-normalizer<3.0,>=2.0 in /usr/local/lib/python3.7/dist-packages (from aiohttp>=3.7.4->line-bot-sdk) (2.1.1)\n",
            "Requirement already satisfied: yarl<2.0,>=1.0 in /usr/local/lib/python3.7/dist-packages (from aiohttp>=3.7.4->line-bot-sdk) (1.8.1)\n",
            "Requirement already satisfied: frozenlist>=1.1.1 in /usr/local/lib/python3.7/dist-packages (from aiohttp>=3.7.4->line-bot-sdk) (1.3.1)\n",
            "Requirement already satisfied: chardet<4,>=3.0.2 in /usr/local/lib/python3.7/dist-packages (from requests>=2.0->line-bot-sdk) (3.0.4)\n",
            "Requirement already satisfied: urllib3!=1.25.0,!=1.25.1,<1.26,>=1.21.1 in /usr/local/lib/python3.7/dist-packages (from requests>=2.0->line-bot-sdk) (1.24.3)\n",
            "Requirement already satisfied: idna<3,>=2.5 in /usr/local/lib/python3.7/dist-packages (from requests>=2.0->line-bot-sdk) (2.10)\n",
            "Requirement already satisfied: certifi>=2017.4.17 in /usr/local/lib/python3.7/dist-packages (from requests>=2.0->line-bot-sdk) (2022.9.24)\n",
            "Requirement already satisfied: Jinja2<3.0,>=2.10.1 in /usr/local/lib/python3.7/dist-packages (from flask) (2.11.3)\n",
            "Requirement already satisfied: Werkzeug<2.0,>=0.15 in /usr/local/lib/python3.7/dist-packages (from flask) (1.0.1)\n",
            "Requirement already satisfied: itsdangerous<2.0,>=0.24 in /usr/local/lib/python3.7/dist-packages (from flask) (1.1.0)\n",
            "Requirement already satisfied: click<8.0,>=5.1 in /usr/local/lib/python3.7/dist-packages (from flask) (7.1.2)\n",
            "Requirement already satisfied: MarkupSafe>=0.23 in /usr/local/lib/python3.7/dist-packages (from Jinja2<3.0,>=2.10.1->flask) (2.0.1)\n",
            "Installing collected packages: line-bot-sdk, flask-ngrok\n",
            "Successfully installed flask-ngrok-0.0.25 line-bot-sdk-2.3.0\n"
          ]
        }
      ]
    },
    {
      "cell_type": "code",
      "source": [
        "from flask import Flask, request, abort, jsonify\n",
        "\n",
        "import json\n",
        "\n",
        "from flask_ngrok import run_with_ngrok\n",
        "\n",
        "from linebot import LineBotApi, WebhookHandler\n",
        "\n",
        "from linebot.exceptions import InvalidSignatureError\n",
        "\n",
        "from linebot.models import *\n",
        "\n",
        "import requests"
      ],
      "metadata": {
        "id": "ej69pUq_4Ui_"
      },
      "execution_count": null,
      "outputs": []
    },
    {
      "cell_type": "code",
      "source": [
        "app = Flask(__name__,static_url_path = \"/material\" , static_folder = \"./material/\")\n",
        "run_with_ngrok(app)\n",
        "\n",
        "# 生成實體物件\n",
        "line_bot_api = LineBotApi(\"cCC/sWeqpseuaq2I6V4y+p6+qeSleyTqT/porO8G/HqDpXwKN+0izUwvHmCxb9Uu9LrIVDJJU8HzNGVq6igSEGAbVDaOww6UNs7IMrI1V3o3ppPLFVhd4WSwOxJM2E17+nnjrgTfxG663Gs/Mq2xmQdB04t89/1O/w1cDnyilFU=\")\n",
        "handler = WebhookHandler(\"73188065423c5095e793dfe0b8eb1304\")"
      ],
      "metadata": {
        "id": "sr3GB3s944eX"
      },
      "execution_count": null,
      "outputs": []
    },
    {
      "cell_type": "code",
      "source": [
        "@app.route(\"/\", methods=['POST'])\n",
        "def callback():\n",
        "    # get X-Line-Signature header value\n",
        "    signature = request.headers['X-Line-Signature']\n",
        "\n",
        "    # get request body as text\n",
        "    body = request.get_data(as_text=True)\n",
        "    print(body)\n",
        "\n",
        "    # 記錄用戶log\n",
        "    with open(\"/content/drive/MyDrive/ai-event.log\", \"a\") as f:\n",
        "        f.write(body)\n",
        "    # handle webhook body\n",
        "    try:\n",
        "        handler.handle(body, signature)\n",
        "    except InvalidSignatureError:\n",
        "        abort(400)\n",
        "\n",
        "    return 'OK'"
      ],
      "metadata": {
        "id": "m7FRVqpz67DY"
      },
      "execution_count": null,
      "outputs": []
    },
    {
      "cell_type": "code",
      "source": [
        "# 圖文選單設置\n",
        "# menuRawData=\"\"\"\n",
        "# {\n",
        "#   \"size\": {\n",
        "#     \"width\": 2500,\n",
        "#     \"height\": 843\n",
        "#   },\n",
        "#   \"selected\": true,\n",
        "#   \"name\": \"圖文選單 1\",\n",
        "#   \"chatBarText\": \"查看更多資訊\",\n",
        "#   \"areas\": [\n",
        "#     {\n",
        "#       \"bounds\": {\n",
        "#         \"x\": 0,\n",
        "#         \"y\": 0,\n",
        "#         \"width\": 826,\n",
        "#         \"height\": 843\n",
        "#       },\n",
        "#       \"action\": {\n",
        "#         \"type\": \"message\",\n",
        "#         \"text\": \"@景點\"\n",
        "#       }\n",
        "#     },\n",
        "#     {\n",
        "#       \"bounds\": {\n",
        "#         \"x\": 842,\n",
        "#         \"y\": 0,\n",
        "#         \"width\": 811,\n",
        "#         \"height\": 843\n",
        "#       },\n",
        "#       \"action\": {\n",
        "#         \"type\": \"message\",\n",
        "#         \"text\": \"@help\"\n",
        "#       }\n",
        "#     },\n",
        "#     {\n",
        "#       \"bounds\": {\n",
        "#         \"x\": 1663,\n",
        "#         \"y\": 0,\n",
        "#         \"width\": 837,\n",
        "#         \"height\": 843\n",
        "#       },\n",
        "#       \"action\": {\n",
        "#         \"type\": \"message\",\n",
        "#         \"text\": \"@美食\"\n",
        "#       }\n",
        "#     }\n",
        "#   ]\n",
        "# }\n",
        "# \"\"\""
      ],
      "metadata": {
        "id": "zlIPbT0c4MUe"
      },
      "execution_count": null,
      "outputs": []
    },
    {
      "cell_type": "code",
      "source": [
        "# menuJson=json.loads(menuRawData)\n",
        "\n",
        "# lineRichMenuId = line_bot_api.create_rich_menu(rich_menu=RichMenu.new_from_json_dict(menuJson))\n",
        "# print(lineRichMenuId)\n",
        "\n",
        "\n",
        "# uploadImageFile=open(\"blockchain_demo.jpg\",'rb')\n",
        "\n",
        "# setImageResponse = line_bot_api.set_rich_menu_image(lineRichMenuId,'image/jpeg',uploadImageFile)\n",
        "\n",
        "# print(setImageResponse)\n",
        "\n",
        "# linkResult=line_bot_api.link_rich_menu_to_user(\"U97f2bcd49832938af4e5939dc8784145\", lineRichMenuId)\n",
        "\n",
        "# print(linkResult)"
      ],
      "metadata": {
        "id": "_hMOVpjq4cmu"
      },
      "execution_count": null,
      "outputs": []
    },
    {
      "cell_type": "code",
      "source": [
        "# 追隨後發送消息\n",
        "\n",
        "from linebot.models.events import FollowEvent\n",
        "\n",
        "# from linebot.models import TextSendMessage, ImageSendMessage\n",
        "\n",
        "@handler.add(FollowEvent)\n",
        "def reply_text_and_get_user_profile(event):\n",
        "\n",
        "  user_profile = line_bot_api.get_profile(event.source.user_id)\n",
        "\n",
        "  with open(\"/content/drive/MyDrive/user.txt\", \"a\") as myfile:\n",
        "    myfile.write(json.dumps(vars(user_profile), sort_keys=True))\n",
        "    myfile.write('\\n')\n",
        "  linkResult=line_bot_api.link_rich_menu_to_user(event.source.user_id, 'richmenu-d9f271b458a29fdd88b4f25671757ae5')\n",
        "  print(linkResult)\n",
        "  line_bot_api.reply_message(\n",
        "      event.reply_token,\n",
        "      [TextSendMessage('感謝您將旅遊機器人加入好友！請輸入@help獲得更多資訊，或直接使用圖文選單進行操作。')]\n",
        "  )"
      ],
      "metadata": {
        "id": "eTmo-VD27Swc"
      },
      "execution_count": null,
      "outputs": []
    },
    {
      "cell_type": "code",
      "source": [
        "# 景點範本\n",
        "carousel_template_message = TemplateSendMessage(\n",
        "    alt_text='Carousel template',\n",
        "    template=CarouselTemplate(\n",
        "        columns=[\n",
        "            CarouselColumn(\n",
        "                thumbnail_image_url='https://img.onl/PO9aQy',\n",
        "                title='蘭陽博物館',\n",
        "                text='以「宜蘭是一座博物館」為理念，保存並維護宜蘭的自然與人文環境，透過研究典藏、展示教育等功能，是今日主要認識宜蘭的「窗口」',\n",
        "                actions=[\n",
        "                    URITemplateAction(\n",
        "                        label='查看',\n",
        "                        uri='https://www.lym.gov.tw/ch/index.html'\n",
        "                    ),\n",
        "                    PostbackTemplateAction(\n",
        "                        label='接受任務',\n",
        "                        text='@蘭陽博物館',\n",
        "                        data='喜歡博物館'\n",
        "                    ),\n",
        "                ]\n",
        "            ),\n",
        "            CarouselColumn(\n",
        "                thumbnail_image_url='https://img.onl/LrBdy6',\n",
        "                title='宜蘭火車站',\n",
        "                text='原為復古的紅磚建築，而後配合周邊的丟丟噹森林和幾米公園，全面重新規劃改裝，吸引了眾多旅客駐足取景，為全台灣最可愛的火車站',\n",
        "                actions=[\n",
        "                    URITemplateAction(\n",
        "                        label='查看',\n",
        "                        uri='https://pfse64289.pixnet.net/blog/post/334217191-宜蘭火車站一日遊'\n",
        "                    ),\n",
        "                    PostbackTemplateAction(\n",
        "                        label='接受任務',\n",
        "                        text='@宜蘭火車站',\n",
        "                        data='喜歡拍照'\n",
        "                    ),\n",
        "                ]\n",
        "            ),CarouselColumn(\n",
        "                thumbnail_image_url='https://img.onl/Qi7pUf',\n",
        "                title='傳統藝術中心',\n",
        "                text='傳統藝術，是民間生活藝術之美，先民薪傳文化之源。藉由各項研究、保存、傳襲及展演計畫的推動，建立臺灣的文化精神代表。術',\n",
        "                actions=[\n",
        "                    URITemplateAction(\n",
        "                        label='查看',\n",
        "                        uri='https://www.ncfta.gov.tw/'\n",
        "                    ),\n",
        "                    PostbackTemplateAction(\n",
        "                        label='接受任務',\n",
        "                        text='@傳統藝術中心',\n",
        "                        data='喜歡博物館'\n",
        "                    ),\n",
        "                ]\n",
        "            ),\n",
        "        ]\n",
        "    )\n",
        ")"
      ],
      "metadata": {
        "id": "7GRaejA3Pdja"
      },
      "execution_count": null,
      "outputs": []
    },
    {
      "cell_type": "code",
      "source": [
        "# 美食範本\n",
        "carousel_template_message_food = TemplateSendMessage(\n",
        "    alt_text='Carousel template',\n",
        "    template=CarouselTemplate(\n",
        "        columns=[\n",
        "            CarouselColumn(\n",
        "                thumbnail_image_url='https://img.onl/GQVKw8',\n",
        "                title='正好鮮肉小籠包',\n",
        "                text='很好吃就對了啦\\n營業時間：10:00~15:00（週一公休）',\n",
        "                actions=[\n",
        "                    URITemplateAction(\n",
        "                        label='打電話',\n",
        "                        uri='tel://039325641'\n",
        "                    ),\n",
        "                    PostbackTemplateAction(\n",
        "                        label='領取優惠券',\n",
        "                        text='@小籠包優惠券',\n",
        "                        data='poor'\n",
        "                    ),\n",
        "                ]\n",
        "            ),\n",
        "            CarouselColumn(\n",
        "                thumbnail_image_url='https://img.onl/rqN6gS',\n",
        "                title='礁溪柯氏蔥油餅',\n",
        "                text='我也沒吃過，反正很多人排隊。\\n營業時間：09:00~18:00 (週三公休)',\n",
        "                actions=[\n",
        "                    URITemplateAction(\n",
        "                        label='打電話',\n",
        "                        uri='tel://0985873689'\n",
        "                    ),\n",
        "                    PostbackTemplateAction(\n",
        "                        label='領取優惠券',\n",
        "                        text='@蔥油餅優惠券',\n",
        "                        data='poor'\n",
        "                    ),\n",
        "                ]\n",
        "            ),CarouselColumn(\n",
        "                thumbnail_image_url='https://img.onl/UmhpjP',\n",
        "                title='蘭城晶英酒店紅樓櫻桃鴨',\n",
        "                text='好吃，超級貴，自己好好想想。\\n營業時間：11:00~15:00；17:00~21:00',\n",
        "                actions=[\n",
        "                    URITemplateAction(\n",
        "                        label='打電話',\n",
        "                        uri='tel://039101011'\n",
        "                    ),\n",
        "                    PostbackTemplateAction(\n",
        "                        label='領取優惠券',\n",
        "                        text='@櫻桃鴨優惠券',\n",
        "                        data='rich'\n",
        "                    ),\n",
        "                ]\n",
        "            ),\n",
        "        ]\n",
        "    )\n",
        ")"
      ],
      "metadata": {
        "id": "sBAoFcctlUm7"
      },
      "execution_count": null,
      "outputs": []
    },
    {
      "cell_type": "code",
      "source": [
        "# 按鍵模板\n",
        "buttons_template_message = TemplateSendMessage(\n",
        "    alt_text='Buttons template',\n",
        "    template=ButtonsTemplate(\n",
        "        title='更多幫助',\n",
        "        text='請點擊下方按鈕獲得更多幫助',\n",
        "        actions=[\n",
        "          {\n",
        "            \"type\": \"message\",\n",
        "            \"label\": \"景點\",\n",
        "            \"text\": \"@景點\",\n",
        "          },\n",
        "          {\n",
        "            \"type\": \"message\",\n",
        "            \"label\": \"美食\",\n",
        "            \"text\": \"@美食\",\n",
        "          },\n",
        "          {\n",
        "            \"type\": \"uri\",\n",
        "            \"label\": \"聯絡我\",\n",
        "            \"uri\":\"tel://0983839151\"\n",
        "          },\n",
        "          {\n",
        "            \"type\": \"message\",\n",
        "            \"label\": \"任務資訊\",\n",
        "            \"text\":\"@任務資訊\"\n",
        "          }\n",
        "        ],\n",
        "  )\n",
        ")"
      ],
      "metadata": {
        "id": "cEU9ql3GRqBw"
      },
      "execution_count": null,
      "outputs": []
    },
    {
      "cell_type": "code",
      "source": [
        "## 點擊後，開啟相機\n",
        "cameraQuickReplyButton = QuickReplyButton(\n",
        "    action=CameraAction(label=\"拍照\")\n",
        ")\n",
        "## 點擊後，跳出地理位置\n",
        "locationQRB = QuickReplyButton(\n",
        "    action=LocationAction(label=\"地理位置\")\n",
        ")\n",
        "## 點擊後，以Postback事件回應Server \n",
        "postbackQRB = QuickReplyButton(\n",
        "    action=PostbackAction(label=\"我放棄:(\", data=\"loser\")\n",
        ")\n",
        "\n",
        "quickReplyList = QuickReply(\n",
        "    items = [cameraQuickReplyButton, locationQRB, postbackQRB]\n",
        ")\n",
        "quick_reply_text_send_message = TextSendMessage(text='拍一張照片或是回報目前位置吧', quick_reply=quickReplyList)"
      ],
      "metadata": {
        "id": "vMViBcZDgBiP"
      },
      "execution_count": null,
      "outputs": []
    },
    {
      "cell_type": "code",
      "source": [
        "# 設計字典，用戶輸入關鍵字輸出對應字\n",
        "from linebot.models import (\n",
        "    MessageEvent, TextMessage, TextSendMessage, ImageSendMessage\n",
        ")\n",
        "template_message_dict = {\n",
        "    \"@help\":buttons_template_message,\n",
        "    \"@景點\":carousel_template_message,\n",
        "    \"@蘭陽博物館\":quick_reply_text_send_message,\n",
        "    \"@宜蘭火車站\":quick_reply_text_send_message,\n",
        "    \"@傳統藝術中心\":quick_reply_text_send_message,\n",
        "    \"@美食\":carousel_template_message_food,\n",
        "    \"@小籠包優惠券\":TextSendMessage('目前無優惠券'),\n",
        "    \"@蔥油餅優惠券\":TextSendMessage('目前無優惠券'),\n",
        "    \"@櫻桃鴨優惠券\":TextSendMessage('目前無優惠券'),\n",
        "    \"@任務資訊\":TextSendMessage('目前還沒想好，等有人給我錢我再把它做出來。')\n",
        "}"
      ],
      "metadata": {
        "id": "GLNZXQdvooHp"
      },
      "execution_count": null,
      "outputs": []
    },
    {
      "cell_type": "code",
      "source": [
        "# 用戶發出文字消息時， 按條件內容, 回傳文字消息\n",
        "@handler.add(MessageEvent, message=TextMessage)\n",
        "def handle_message(event):\n",
        "\n",
        "    if(event.message.text.find('@')!= -1):\n",
        "        line_bot_api.reply_message(\n",
        "        event.reply_token,\n",
        "        template_message_dict.get(event.message.text)\n",
        "        )\n",
        "    else:\n",
        "        line_bot_api.reply_message(\n",
        "        event.reply_token,\n",
        "        TextSendMessage(text=\"字典內查無此字，請輸入@help\")\n",
        "        )"
      ],
      "metadata": {
        "id": "phFXBmSMMA87"
      },
      "execution_count": null,
      "outputs": []
    },
    {
      "cell_type": "code",
      "source": [
        "#用戶點擊button後，觸發postback event，對其回傳做相對應處理\n",
        "\n",
        "@handler.add(PostbackEvent)\n",
        "def handle_post_message(event):\n",
        "    user_profile = line_bot_api.get_profile(event.source.user_id)\n",
        "    if (event.postback.data.find('loser')== 0):\n",
        "        with open(\"user_profile_business.txt\", \"a\") as myfile:\n",
        "            myfile.write(json.dumps(vars(user_profile),sort_keys=True))\n",
        "            myfile.write('\\n')\n",
        "            line_bot_api.reply_message(\n",
        "            event.reply_token,\n",
        "                TextMessage(\n",
        "                    text='不是，這麼簡單還要放棄是怎麼樣的。'\n",
        "                )\n",
        "            )\n",
        "    elif (event.postback.data.find('Data2') == 0):\n",
        "        with open(\"user_profile_tutorial.txt\", \"a\") as myfile:\n",
        "            myfile.write(json.dumps(vars(user_profile),sort_keys=True))\n",
        "            myfile.write('\\n')\n",
        "            line_bot_api.reply_message(\n",
        "            event.reply_token,\n",
        "                TextMessage(\n",
        "                    text='請稍待，我們會派專家與您聯繫'\n",
        "                )\n",
        "            )\n",
        "    elif (event.postback.data.find('喜歡博物館')== 0):\n",
        "        with open(\"user_profile_business.txt\", \"a\") as myfile:\n",
        "            myfile.write(json.dumps(vars(user_profile),sort_keys=True))\n",
        "            myfile.write('\\n')\n",
        "            line_bot_api.reply_message(\n",
        "            event.reply_token,\n",
        "                TextMessage(\n",
        "                    text='感謝您接下蘭陽博物館的任務，請依照以下任務內容完成任務。'\n",
        "                )\n",
        "            )\n",
        "    elif (event.postback.data.find('喜歡拍照') == 0):\n",
        "        with open(\"user_profile_tutorial.txt\", \"a\") as myfile:\n",
        "            myfile.write(json.dumps(vars(user_profile),sort_keys=True))\n",
        "            myfile.write('\\n')\n",
        "            line_bot_api.reply_message(\n",
        "            event.reply_token,\n",
        "                TextMessage(\n",
        "                    text='感謝您接下宜蘭火車站的任務，請依照以下任務內容完成任務。'\n",
        "                )\n",
        "            )\n",
        "    elif (event.postback.data.find('喜歡傳統藝術') == 0):\n",
        "        with open(\"user_profile_tutorial.txt\", \"a\") as myfile:\n",
        "            myfile.write(json.dumps(vars(user_profile),sort_keys=True))\n",
        "            myfile.write('\\n')\n",
        "            line_bot_api.reply_message(\n",
        "            event.reply_token,\n",
        "                TextMessage(\n",
        "                    text='感謝您接下傳統藝術中心的任務，請依照以下任務內容完成任務。'\n",
        "                )\n",
        "            )\n",
        "    else:\n",
        "        pass"
      ],
      "metadata": {
        "id": "X706Kx6YN-cy"
      },
      "execution_count": null,
      "outputs": []
    },
    {
      "cell_type": "code",
      "source": [
        "app.run()"
      ],
      "metadata": {
        "colab": {
          "base_uri": "https://localhost:8080/"
        },
        "id": "F9Ro2kWdDbyp",
        "outputId": "fb7812b0-28be-4bb1-8513-96b4c13b2013"
      },
      "execution_count": null,
      "outputs": [
        {
          "output_type": "stream",
          "name": "stdout",
          "text": [
            " * Serving Flask app \"__main__\" (lazy loading)\n",
            " * Environment: production\n",
            "\u001b[31m   WARNING: This is a development server. Do not use it in a production deployment.\u001b[0m\n",
            "\u001b[2m   Use a production WSGI server instead.\u001b[0m\n",
            " * Debug mode: off\n"
          ]
        },
        {
          "output_type": "stream",
          "name": "stderr",
          "text": [
            "INFO:werkzeug: * Running on http://127.0.0.1:5000/ (Press CTRL+C to quit)\n"
          ]
        },
        {
          "output_type": "stream",
          "name": "stdout",
          "text": [
            " * Running on http://8a8a-35-243-239-80.ngrok.io\n",
            " * Traffic stats available on http://127.0.0.1:4040\n"
          ]
        },
        {
          "output_type": "stream",
          "name": "stderr",
          "text": [
            "INFO:werkzeug:127.0.0.1 - - [18/Oct/2022 12:47:28] \"\u001b[31m\u001b[1mGET / HTTP/1.1\u001b[0m\" 405 -\n",
            "INFO:werkzeug:127.0.0.1 - - [18/Oct/2022 12:47:28] \"\u001b[33mGET /favicon.ico HTTP/1.1\u001b[0m\" 404 -\n",
            "INFO:werkzeug:127.0.0.1 - - [18/Oct/2022 12:47:29] \"\u001b[31m\u001b[1mGET / HTTP/1.1\u001b[0m\" 405 -\n",
            "INFO:werkzeug:127.0.0.1 - - [18/Oct/2022 12:47:46] \"\u001b[31m\u001b[1mGET / HTTP/1.1\u001b[0m\" 405 -\n",
            "INFO:werkzeug:127.0.0.1 - - [18/Oct/2022 12:47:46] \"\u001b[33mGET /favicon.ico HTTP/1.1\u001b[0m\" 404 -\n"
          ]
        }
      ]
    }
  ]
}